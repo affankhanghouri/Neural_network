{
  "nbformat": 4,
  "nbformat_minor": 0,
  "metadata": {
    "colab": {
      "provenance": [],
      "gpuType": "T4",
      "authorship_tag": "ABX9TyMOpPLYQeN/7Sa98zmk8MRi",
      "include_colab_link": true
    },
    "kernelspec": {
      "name": "python3",
      "display_name": "Python 3"
    },
    "language_info": {
      "name": "python"
    },
    "accelerator": "GPU"
  },
  "cells": [
    {
      "cell_type": "markdown",
      "metadata": {
        "id": "view-in-github",
        "colab_type": "text"
      },
      "source": [
        "<a href=\"https://colab.research.google.com/github/affankhanghouri/Neural_network/blob/main/Untitled38.ipynb\" target=\"_parent\"><img src=\"https://colab.research.google.com/assets/colab-badge.svg\" alt=\"Open In Colab\"/></a>"
      ]
    },
    {
      "cell_type": "code",
      "source": [
        "!pip install opendatasets"
      ],
      "metadata": {
        "id": "yA7cWJY8avLE"
      },
      "execution_count": 1,
      "outputs": []
    },
    {
      "cell_type": "code",
      "source": [
        "import opendatasets as od\n",
        "od.download('https://www.kaggle.com/datasets/pacificrm/skindiseasedataset')"
      ],
      "metadata": {
        "id": "GtG4VQjnay8M"
      },
      "execution_count": null,
      "outputs": []
    },
    {
      "cell_type": "code",
      "execution_count": 4,
      "metadata": {
        "id": "gC6L6iTIZ9f9"
      },
      "outputs": [],
      "source": [
        "import os\n",
        "from sklearn.utils import shuffle\n",
        "from sklearn.model_selection import train_test_split\n",
        "import pandas as pd\n",
        "import matplotlib.pyplot as plt\n",
        "from sklearn.preprocessing import LabelEncoder\n",
        "from sklearn.metrics import classification_report, confusion_matrix\n",
        "import numpy as np\n",
        "import torch\n",
        "import torch.nn as nn\n",
        "from torch.utils.data import Dataset, DataLoader, WeightedRandomSampler\n",
        "import torch.optim as optim\n",
        "from torchvision.transforms import transforms\n",
        "import torchvision.models as models\n",
        "from PIL import Image\n",
        "import random\n",
        "from tqdm import tqdm\n",
        "from collections import Counter"
      ]
    },
    {
      "cell_type": "code",
      "source": [
        "device = torch.device('cuda' if torch.cuda.is_available() else 'cpu')\n",
        "print(f\"Using device: {device}\")\n"
      ],
      "metadata": {
        "colab": {
          "base_uri": "https://localhost:8080/"
        },
        "id": "tO3OGrSqcNjr",
        "outputId": "a46def32-083a-4a88-8323-8cb5f252a87a"
      },
      "execution_count": 5,
      "outputs": [
        {
          "output_type": "stream",
          "name": "stdout",
          "text": [
            "Using device: cuda\n"
          ]
        }
      ]
    },
    {
      "cell_type": "code",
      "source": [
        "def load_data(data_dir):\n",
        "    \"\"\"Helper function to load image paths and labels\"\"\"\n",
        "    image_paths = []\n",
        "    labels = []\n",
        "\n",
        "    for label in os.listdir(data_dir):\n",
        "        label_folder = os.path.join(data_dir, label)\n",
        "        if os.path.isdir(label_folder):\n",
        "            for image in os.listdir(label_folder):\n",
        "                if image.lower().endswith(('.png', '.jpg', '.jpeg')):\n",
        "                    image_path = os.path.join(label_folder, image)\n",
        "                    # Verify image can be opened\n",
        "                    try:\n",
        "                        with Image.open(image_path) as img:\n",
        "                            img.verify()\n",
        "                        image_paths.append(image_path)\n",
        "                        labels.append(label)\n",
        "                    except Exception as e:\n",
        "                        print(f\"Skipping corrupted image: {image_path}\")\n",
        "\n",
        "    return shuffle(image_paths, labels, random_state=42)"
      ],
      "metadata": {
        "id": "8OMLvtzEcRN3"
      },
      "execution_count": 6,
      "outputs": []
    },
    {
      "cell_type": "code",
      "source": [
        "#Load data\n",
        "train_dir = '/content/skindiseasedataset/SkinDisease/SkinDisease/train'\n",
        "test_dir = '/content/skindiseasedataset/SkinDisease/SkinDisease/test'\n",
        "\n",
        "train_paths, train_labels = load_data(train_dir)\n",
        "test_paths, test_labels = load_data(test_dir)\n",
        "\n",
        "print(f\"Training samples: {len(train_paths)}\")\n",
        "print(f\"Test samples: {len(test_paths)}\")\n"
      ],
      "metadata": {
        "colab": {
          "base_uri": "https://localhost:8080/"
        },
        "id": "p-6dANN9cbd6",
        "outputId": "ec772f40-c22b-436e-84eb-57516cbf4d71"
      },
      "execution_count": 7,
      "outputs": [
        {
          "output_type": "stream",
          "name": "stdout",
          "text": [
            "Training samples: 13898\n",
            "Test samples: 1546\n"
          ]
        }
      ]
    },
    {
      "cell_type": "code",
      "source": [
        "# Check class distribution\n",
        "train_class_counts = Counter(train_labels)\n",
        "print(\"Class distribution in training set:\")\n",
        "for class_name, count in train_class_counts.items():\n",
        "    print(f\"{class_name}: {count}\")"
      ],
      "metadata": {
        "colab": {
          "base_uri": "https://localhost:8080/"
        },
        "id": "98O3bVtHcf8T",
        "outputId": "e664e173-7174-4257-ade0-55795eb742a4"
      },
      "execution_count": 8,
      "outputs": [
        {
          "output_type": "stream",
          "name": "stdout",
          "text": [
            "\n",
            "Class distribution in training set:\n",
            "Actinic_Keratosis: 748\n",
            "Eczema: 1010\n",
            "Infestations_Bites: 524\n",
            "Vascular_Tumors: 543\n",
            "Psoriasis: 820\n",
            "Unknown_Normal: 1651\n",
            "Benign_tumors: 1093\n",
            "Seborrh_Keratoses: 455\n",
            "Warts: 580\n",
            "Acne: 593\n",
            "Lichen: 553\n",
            "Sun_Sunlight_Damage: 312\n",
            "Moles: 361\n",
            "Vasculitis: 461\n",
            "DrugEruption: 547\n",
            "Vitiligo: 714\n",
            "Lupus: 311\n",
            "Candidiasis: 248\n",
            "SkinCancer: 693\n",
            "Tinea: 923\n",
            "Bullous: 504\n",
            "Rosacea: 254\n"
          ]
        }
      ]
    },
    {
      "cell_type": "code",
      "source": [
        "# Label encoding\n",
        "le = LabelEncoder()\n",
        "le.fit(train_labels)\n",
        "train_labels_encoded = le.transform(train_labels)\n",
        "test_labels_encoded = le.transform(test_labels)"
      ],
      "metadata": {
        "id": "qN0qV7DUckHs"
      },
      "execution_count": 9,
      "outputs": []
    },
    {
      "cell_type": "code",
      "source": [
        "num_classes = len(le.classes_)\n",
        "print(f\"Number of classes: {num_classes}\")\n"
      ],
      "metadata": {
        "colab": {
          "base_uri": "https://localhost:8080/"
        },
        "id": "fV3_tvTdcuVs",
        "outputId": "89ee304d-e1f5-4a3f-c37e-646b7a45f6cd"
      },
      "execution_count": 11,
      "outputs": [
        {
          "output_type": "stream",
          "name": "stdout",
          "text": [
            "Number of classes: 22\n"
          ]
        }
      ]
    },
    {
      "cell_type": "code",
      "source": [
        "\n",
        "# Create validation split from training data\n",
        "train_paths_split, val_paths, train_labels_split, val_labels = train_test_split(\n",
        "    train_paths, train_labels_encoded, test_size=0.2,\n",
        "    stratify=train_labels_encoded, random_state=42\n",
        ")\n",
        "\n",
        "print(f\"Train split: {len(train_paths_split)}\")\n",
        "print(f\"Validation split: {len(val_paths)}\")"
      ],
      "metadata": {
        "colab": {
          "base_uri": "https://localhost:8080/"
        },
        "id": "7aEk0rAScyhB",
        "outputId": "811e0f3b-6eb1-4658-8f95-943242b16150"
      },
      "execution_count": 13,
      "outputs": [
        {
          "output_type": "stream",
          "name": "stdout",
          "text": [
            "Train split: 11118\n",
            "Validation split: 2780\n"
          ]
        }
      ]
    },
    {
      "cell_type": "code",
      "source": [
        "class ImprovedAugmentAndTransform:\n",
        "    \"\"\"Enhanced transformation class with better augmentations\"\"\"\n",
        "    def __init__(self, train=True):\n",
        "        self.train = train\n",
        "\n",
        "        if train:\n",
        "            self.transform = transforms.Compose([\n",
        "                transforms.Resize((256, 256)),\n",
        "                transforms.RandomCrop(224),\n",
        "                transforms.RandomHorizontalFlip(p=0.5),\n",
        "                transforms.RandomVerticalFlip(p=0.2),  # Medical images can benefit from this\n",
        "                transforms.RandomRotation(degrees=15),\n",
        "                transforms.ColorJitter(brightness=0.2, contrast=0.2, saturation=0.2, hue=0.1),\n",
        "                transforms.RandomAffine(degrees=0, translate=(0.1, 0.1), scale=(0.9, 1.1)),\n",
        "                transforms.ToTensor(),\n",
        "                transforms.Normalize(mean=[0.485, 0.456, 0.406],\n",
        "                                   std=[0.229, 0.224, 0.225])\n",
        "            ])\n",
        "        else:\n",
        "            self.transform = transforms.Compose([\n",
        "                transforms.Resize((224, 224)),\n",
        "                transforms.ToTensor(),\n",
        "                transforms.Normalize(mean=[0.485, 0.456, 0.406],\n",
        "                                   std=[0.229, 0.224, 0.225])\n",
        "            ])\n",
        "\n",
        "    def __call__(self, image):\n",
        "        return self.transform(image)\n",
        "\n",
        ""
      ],
      "metadata": {
        "id": "2vKp2ICTc1rl"
      },
      "execution_count": 14,
      "outputs": []
    },
    {
      "cell_type": "code",
      "source": [
        "\n",
        "class RobustDataset(Dataset):\n",
        "    \"\"\"Robust dataset class with better error handling\"\"\"\n",
        "    def __init__(self, image_paths, labels, transform):\n",
        "        self.image_paths = image_paths\n",
        "        self.labels = labels\n",
        "        self.transform = transform\n",
        "\n",
        "    def __len__(self):\n",
        "        return len(self.image_paths)\n",
        "\n",
        "    def __getitem__(self, idx):\n",
        "        max_retries = 3\n",
        "        for attempt in range(max_retries):\n",
        "            try:\n",
        "                path = self.image_paths[idx]\n",
        "                label = torch.tensor(self.labels[idx], dtype=torch.long)\n",
        "\n",
        "                image = Image.open(path).convert(\"RGB\")\n",
        "                image = self.transform(image)\n",
        "\n",
        "                return image, label\n",
        "            except Exception as e:\n",
        "                if attempt == max_retries - 1:\n",
        "                    print(f\"Failed to load image after {max_retries} attempts: {path}\")\n",
        "                    # Return a different random sample instead of dummy data\n",
        "                    idx = random.randint(0, len(self.image_paths) - 1)\n",
        "                continue"
      ],
      "metadata": {
        "id": "dcSUc7-VdOlp"
      },
      "execution_count": 15,
      "outputs": []
    },
    {
      "cell_type": "code",
      "source": [
        "train_dataset = RobustDataset(train_paths_split, train_labels_split,\n",
        "                             transform=ImprovedAugmentAndTransform(train=True))\n",
        "val_dataset = RobustDataset(val_paths, val_labels,\n",
        "                           transform=ImprovedAugmentAndTransform(train=False))\n",
        "test_dataset = RobustDataset(test_paths, test_labels_encoded,\n",
        "                            transform=ImprovedAugmentAndTransform(train=False))\n"
      ],
      "metadata": {
        "id": "YbKlM9k-dZFl"
      },
      "execution_count": 16,
      "outputs": []
    },
    {
      "cell_type": "code",
      "source": [
        "# Handle class imbalance with weighted sampling\n",
        "class_counts = np.bincount(train_labels_split)\n",
        "class_weights = 1.0 / class_counts\n",
        "sample_weights = class_weights[train_labels_split]\n",
        "\n",
        "sampler = WeightedRandomSampler(weights=sample_weights,\n",
        "                               num_samples=len(sample_weights),\n",
        "                               replacement=True)\n",
        "\n"
      ],
      "metadata": {
        "colab": {
          "base_uri": "https://localhost:8080/"
        },
        "id": "cLeRpLEsdd3i",
        "outputId": "6fe674a5-9d53-4b99-c8a0-c56b759a22d6"
      },
      "execution_count": 18,
      "outputs": [
        {
          "output_type": "stream",
          "name": "stdout",
          "text": [
            "Class weights: [0.0021097  0.00167224 0.00114416 0.00248139 0.00502513 0.00228311\n",
            " 0.00123762 0.00238663 0.00226244 0.00401606 0.00346021 0.00152439\n",
            " 0.00492611 0.00274725 0.00180505 0.004      0.00135501 0.000757\n",
            " 0.00229885 0.00271003 0.00175131 0.00215517]\n"
          ]
        }
      ]
    },
    {
      "cell_type": "code",
      "source": [
        "batch_size = 16 if torch.cuda.is_available() else 8\n",
        "train_loader = DataLoader(train_dataset, batch_size=batch_size, sampler=sampler, num_workers=2)\n",
        "val_loader = DataLoader(val_dataset, batch_size=batch_size, shuffle=False, num_workers=2)\n",
        "test_loader = DataLoader(test_dataset, batch_size=batch_size, shuffle=False, num_workers=2)\n"
      ],
      "metadata": {
        "id": "48n15uEpdqV2"
      },
      "execution_count": 19,
      "outputs": []
    },
    {
      "cell_type": "code",
      "source": [
        "\n",
        "\n",
        "from torchvision.models import efficientnet_b3\n",
        "\n",
        "print(\"Loading EfficientNet-B3...\")\n",
        "model = efficientnet_b3(pretrained=True)\n"
      ],
      "metadata": {
        "colab": {
          "base_uri": "https://localhost:8080/"
        },
        "id": "R-3ehduMd5iA",
        "outputId": "4e989caf-3a25-48bd-8ea2-fcaa9a1456e4"
      },
      "execution_count": 21,
      "outputs": [
        {
          "output_type": "stream",
          "name": "stdout",
          "text": [
            "Loading EfficientNet-B3...\n"
          ]
        }
      ]
    },
    {
      "cell_type": "code",
      "source": [
        "# unfreezing approach\n",
        "def set_parameter_requires_grad(model, feature_extracting=True, unfreeze_layers=4):\n",
        "    \"\"\"More flexible parameter freezing\"\"\"\n",
        "    if feature_extracting:\n",
        "        # Freezing all parameters first\n",
        "        for param in model.parameters():\n",
        "            param.requires_grad = False\n",
        "\n",
        "        # Unfreeze last few layers\n",
        "        for param in model.features[-unfreeze_layers:].parameters():\n",
        "            param.requires_grad = True\n",
        "\n",
        "        #  unfreeze classifier\n",
        "        for param in model.classifier.parameters():\n",
        "            param.requires_grad = True\n",
        "\n",
        "set_parameter_requires_grad(model, feature_extracting=True, unfreeze_layers=5)"
      ],
      "metadata": {
        "id": "RMuIuaFmd8lz"
      },
      "execution_count": 22,
      "outputs": []
    },
    {
      "cell_type": "code",
      "source": [
        "# Enhanced classifier\n",
        "in_features = model.classifier[-1].in_features\n",
        "print(in_features)"
      ],
      "metadata": {
        "colab": {
          "base_uri": "https://localhost:8080/"
        },
        "id": "MiUtLRGLedoq",
        "outputId": "b710e000-5923-43d9-b7d3-eb7337cdcc84"
      },
      "execution_count": 24,
      "outputs": [
        {
          "output_type": "stream",
          "name": "stdout",
          "text": [
            "1536\n"
          ]
        }
      ]
    },
    {
      "cell_type": "code",
      "source": [
        "\n",
        "model.classifier = nn.Sequential(\n",
        "    nn.Dropout(0.4),\n",
        "    nn.Linear(in_features, 1024),\n",
        "    nn.BatchNorm1d(1024),\n",
        "    nn.ReLU(inplace=True),\n",
        "    nn.Dropout(0.5),\n",
        "\n",
        "    nn.Linear(1024, 512),\n",
        "    nn.BatchNorm1d(512),\n",
        "    nn.ReLU(inplace=True),\n",
        "    nn.Dropout(0.4),\n",
        "\n",
        "    nn.Linear(512, 256),\n",
        "    nn.BatchNorm1d(256),\n",
        "    nn.ReLU(inplace=True),\n",
        "    nn.Dropout(0.3),\n",
        "\n",
        "    nn.Linear(256, num_classes)\n",
        ")"
      ],
      "metadata": {
        "id": "JCDdHN2lehEs"
      },
      "execution_count": 25,
      "outputs": []
    },
    {
      "cell_type": "code",
      "source": [
        "model = model.to(device)\n"
      ],
      "metadata": {
        "id": "SfjbMTeHfFLg"
      },
      "execution_count": 26,
      "outputs": []
    },
    {
      "cell_type": "code",
      "source": [
        "\n",
        "#  training setup\n",
        "class_weights_tensor = torch.FloatTensor(class_weights).to(device)\n",
        "loss_fn = nn.CrossEntropyLoss(weight=class_weights_tensor)\n",
        "\n",
        "# Different learning rates for different parts\n",
        "classifier_params = list(model.classifier.parameters())\n",
        "feature_params = [p for p in model.parameters() if p not in set(classifier_params)]\n",
        "\n",
        "optimizer = optim.AdamW([\n",
        "    {'params': feature_params, 'lr': 1e-4},  # Lower LR for pretrained features\n",
        "    {'params': classifier_params, 'lr': 1e-3}  # Higher LR for new classifier\n",
        "], weight_decay=1e-4)\n",
        "\n",
        "# More aggressive scheduler\n",
        "scheduler = optim.lr_scheduler.CosineAnnealingLR(optimizer, T_max=30, eta_min=1e-6)\n"
      ],
      "metadata": {
        "id": "nSuSNyG_e_7X"
      },
      "execution_count": 29,
      "outputs": []
    },
    {
      "cell_type": "code",
      "source": [
        "\n",
        "def evaluate_model(model, data_loader, loss_fn, device):\n",
        "    model.eval()\n",
        "    total_loss = 0\n",
        "    correct_predictions = 0\n",
        "    total_samples = 0\n",
        "    all_predictions = []\n",
        "    all_labels = []\n",
        "\n",
        "    with torch.no_grad():\n",
        "        for batch_features, batch_labels in data_loader:\n",
        "            batch_features, batch_labels = batch_features.to(device), batch_labels.to(device)\n",
        "\n",
        "            outputs = model(batch_features)\n",
        "            loss = loss_fn(outputs, batch_labels)\n",
        "\n",
        "            total_loss += loss.item()\n",
        "            _, predicted = torch.max(outputs, 1)\n",
        "            total_samples += batch_labels.size(0)\n",
        "            correct_predictions += (predicted == batch_labels).sum().item()\n",
        "\n",
        "            all_predictions.extend(predicted.cpu().numpy())\n",
        "            all_labels.extend(batch_labels.cpu().numpy())\n",
        "\n",
        "    avg_loss = total_loss / len(data_loader)\n",
        "    accuracy = 100 * correct_predictions / total_samples\n",
        "\n",
        "    return avg_loss, accuracy, all_predictions, all_labels"
      ],
      "metadata": {
        "id": "7NLWvOUMfVED"
      },
      "execution_count": 30,
      "outputs": []
    },
    {
      "cell_type": "code",
      "source": [
        "\n",
        "# Training with early stopping\n",
        "epochs = 20\n",
        "best_val_acc = 0\n",
        "patience = 8\n",
        "patience_counter = 0\n",
        "\n",
        "train_losses = []\n",
        "train_accuracies = []\n",
        "val_losses = []\n",
        "val_accuracies = []\n",
        "\n",
        "print(\"Starting training...\")\n",
        "\n",
        "for epoch in range(epochs):\n",
        "    # Training phase\n",
        "    model.train()\n",
        "    total_epoch_loss = 0\n",
        "    correct_predictions = 0\n",
        "    total_samples = 0\n",
        "\n",
        "    progress_bar = tqdm(enumerate(train_loader),\n",
        "                       total=len(train_loader),\n",
        "                       desc=f\"Epoch {epoch+1}/{epochs}\")\n",
        "\n",
        "    for batch_idx, (batch_features, batch_labels) in progress_bar:\n",
        "        batch_features, batch_labels = batch_features.to(device), batch_labels.to(device)\n",
        "\n",
        "        outputs = model(batch_features)\n",
        "        loss = loss_fn(outputs, batch_labels)\n",
        "\n",
        "        optimizer.zero_grad()\n",
        "        loss.backward()\n",
        "\n",
        "        # Gradient clipping\n",
        "        torch.nn.utils.clip_grad_norm_(model.parameters(), max_norm=1.0)\n",
        "\n",
        "        optimizer.step()\n",
        "\n",
        "        total_epoch_loss += loss.item()\n",
        "        _, predicted = torch.max(outputs, 1)\n",
        "        total_samples += batch_labels.size(0)\n",
        "        correct_predictions += (predicted == batch_labels).sum().item()\n",
        "\n",
        "        current_loss = total_epoch_loss / (batch_idx + 1)\n",
        "        current_acc = 100 * correct_predictions / total_samples\n",
        "        progress_bar.set_postfix({\"Loss\": f\"{current_loss:.4f}\", \"Acc\": f\"{current_acc:.2f}%\"})\n",
        "\n",
        "    # Calculate epoch metrics\n",
        "    avg_train_loss = total_epoch_loss / len(train_loader)\n",
        "    train_accuracy = 100 * correct_predictions / total_samples\n",
        "\n",
        "    # Validation phase\n",
        "    val_loss, val_accuracy, val_preds, val_labels = evaluate_model(model, val_loader, loss_fn, device)\n",
        "\n",
        "    # Store metrics\n",
        "    train_losses.append(avg_train_loss)\n",
        "    train_accuracies.append(train_accuracy)\n",
        "    val_losses.append(val_loss)\n",
        "    val_accuracies.append(val_accuracy)\n",
        "\n",
        "    # Learning rate scheduling\n",
        "    scheduler.step()\n",
        "\n",
        "    # Early stopping and model saving\n",
        "    if val_accuracy > best_val_acc:\n",
        "        best_val_acc = val_accuracy\n",
        "        patience_counter = 0\n",
        "        torch.save({\n",
        "            'epoch': epoch,\n",
        "            'model_state_dict': model.state_dict(),\n",
        "            'optimizer_state_dict': optimizer.state_dict(),\n",
        "            'best_val_acc': best_val_acc,\n",
        "            'label_encoder': le\n",
        "        }, 'best_skin_disease_model_enhanced.pth')\n",
        "    else:\n",
        "        patience_counter += 1\n",
        "\n",
        "    print(f\"Epoch {epoch + 1}/{epochs}\")\n",
        "    print(f\"Train - Loss: {avg_train_loss:.4f}, Acc: {train_accuracy:.2f}%\")\n",
        "    print(f\"Val   - Loss: {val_loss:.4f}, Acc: {val_accuracy:.2f}%\")\n",
        "    print(f\"Best Val Acc: {best_val_acc:.2f}% | Patience: {patience_counter}/{patience}\")\n",
        "    print(\"-\" * 60)\n",
        "\n",
        "    if patience_counter >= patience:\n",
        "        print(\"Early stopping triggered!\")\n",
        "        break\n",
        "\n",
        "    torch.cuda.empty_cache()\n",
        "\n",
        "print(f\"Training completed! Best validation accuracy: {best_val_acc:.2f}%\")\n"
      ],
      "metadata": {
        "colab": {
          "base_uri": "https://localhost:8080/"
        },
        "id": "207AJ3FIfgCN",
        "outputId": "41407203-668b-442f-f2cd-e9abef0eaa75"
      },
      "execution_count": 32,
      "outputs": [
        {
          "output_type": "stream",
          "name": "stdout",
          "text": [
            "Starting training...\n"
          ]
        },
        {
          "output_type": "stream",
          "name": "stderr",
          "text": [
            "Epoch 1/20: 100%|██████████| 695/695 [02:42<00:00,  4.28it/s, Loss=1.9494, Acc=36.34%]\n"
          ]
        },
        {
          "output_type": "stream",
          "name": "stdout",
          "text": [
            "Epoch 1/20\n",
            "Train - Loss: 1.9494, Acc: 36.34%\n",
            "Val   - Loss: 1.8461, Acc: 41.65%\n",
            "Best Val Acc: 41.65% | Patience: 0/8\n",
            "------------------------------------------------------------\n"
          ]
        },
        {
          "output_type": "stream",
          "name": "stderr",
          "text": [
            "Epoch 2/20: 100%|██████████| 695/695 [02:37<00:00,  4.41it/s, Loss=1.7044, Acc=42.75%]\n"
          ]
        },
        {
          "output_type": "stream",
          "name": "stdout",
          "text": [
            "Epoch 2/20\n",
            "Train - Loss: 1.7044, Acc: 42.75%\n",
            "Val   - Loss: 1.6756, Acc: 45.29%\n",
            "Best Val Acc: 45.29% | Patience: 0/8\n",
            "------------------------------------------------------------\n"
          ]
        },
        {
          "output_type": "stream",
          "name": "stderr",
          "text": [
            "Epoch 3/20: 100%|██████████| 695/695 [02:39<00:00,  4.36it/s, Loss=1.5256, Acc=48.46%]\n"
          ]
        },
        {
          "output_type": "stream",
          "name": "stdout",
          "text": [
            "Epoch 3/20\n",
            "Train - Loss: 1.5256, Acc: 48.46%\n",
            "Val   - Loss: 1.6730, Acc: 47.23%\n",
            "Best Val Acc: 47.23% | Patience: 0/8\n",
            "------------------------------------------------------------\n"
          ]
        },
        {
          "output_type": "stream",
          "name": "stderr",
          "text": [
            "Epoch 4/20: 100%|██████████| 695/695 [02:36<00:00,  4.43it/s, Loss=1.3935, Acc=52.00%]\n"
          ]
        },
        {
          "output_type": "stream",
          "name": "stdout",
          "text": [
            "Epoch 4/20\n",
            "Train - Loss: 1.3935, Acc: 52.00%\n",
            "Val   - Loss: 1.5855, Acc: 49.39%\n",
            "Best Val Acc: 49.39% | Patience: 0/8\n",
            "------------------------------------------------------------\n"
          ]
        },
        {
          "output_type": "stream",
          "name": "stderr",
          "text": [
            "Epoch 5/20: 100%|██████████| 695/695 [02:38<00:00,  4.38it/s, Loss=1.2923, Acc=54.65%]\n"
          ]
        },
        {
          "output_type": "stream",
          "name": "stdout",
          "text": [
            "Epoch 5/20\n",
            "Train - Loss: 1.2923, Acc: 54.65%\n",
            "Val   - Loss: 1.5316, Acc: 52.52%\n",
            "Best Val Acc: 52.52% | Patience: 0/8\n",
            "------------------------------------------------------------\n"
          ]
        },
        {
          "output_type": "stream",
          "name": "stderr",
          "text": [
            "Epoch 6/20: 100%|██████████| 695/695 [02:35<00:00,  4.46it/s, Loss=1.1883, Acc=58.26%]\n"
          ]
        },
        {
          "output_type": "stream",
          "name": "stdout",
          "text": [
            "Epoch 6/20\n",
            "Train - Loss: 1.1883, Acc: 58.26%\n",
            "Val   - Loss: 1.4903, Acc: 53.99%\n",
            "Best Val Acc: 53.99% | Patience: 0/8\n",
            "------------------------------------------------------------\n"
          ]
        },
        {
          "output_type": "stream",
          "name": "stderr",
          "text": [
            "Epoch 7/20: 100%|██████████| 695/695 [02:35<00:00,  4.46it/s, Loss=1.0797, Acc=61.06%]\n"
          ]
        },
        {
          "output_type": "stream",
          "name": "stdout",
          "text": [
            "Epoch 7/20\n",
            "Train - Loss: 1.0797, Acc: 61.06%\n",
            "Val   - Loss: 1.4668, Acc: 55.50%\n",
            "Best Val Acc: 55.50% | Patience: 0/8\n",
            "------------------------------------------------------------\n"
          ]
        },
        {
          "output_type": "stream",
          "name": "stderr",
          "text": [
            "Epoch 8/20: 100%|██████████| 695/695 [02:34<00:00,  4.49it/s, Loss=1.0109, Acc=63.40%]\n"
          ]
        },
        {
          "output_type": "stream",
          "name": "stdout",
          "text": [
            "Epoch 8/20\n",
            "Train - Loss: 1.0109, Acc: 63.40%\n",
            "Val   - Loss: 1.3918, Acc: 57.48%\n",
            "Best Val Acc: 57.48% | Patience: 0/8\n",
            "------------------------------------------------------------\n"
          ]
        },
        {
          "output_type": "stream",
          "name": "stderr",
          "text": [
            "Epoch 9/20: 100%|██████████| 695/695 [02:39<00:00,  4.35it/s, Loss=0.9668, Acc=64.27%]\n"
          ]
        },
        {
          "output_type": "stream",
          "name": "stdout",
          "text": [
            "Epoch 9/20\n",
            "Train - Loss: 0.9668, Acc: 64.27%\n",
            "Val   - Loss: 1.4122, Acc: 58.09%\n",
            "Best Val Acc: 58.09% | Patience: 0/8\n",
            "------------------------------------------------------------\n"
          ]
        },
        {
          "output_type": "stream",
          "name": "stderr",
          "text": [
            "Epoch 10/20: 100%|██████████| 695/695 [02:37<00:00,  4.42it/s, Loss=0.8910, Acc=68.38%]\n"
          ]
        },
        {
          "output_type": "stream",
          "name": "stdout",
          "text": [
            "Epoch 10/20\n",
            "Train - Loss: 0.8910, Acc: 68.38%\n",
            "Val   - Loss: 1.3765, Acc: 59.50%\n",
            "Best Val Acc: 59.50% | Patience: 0/8\n",
            "------------------------------------------------------------\n"
          ]
        },
        {
          "output_type": "stream",
          "name": "stderr",
          "text": [
            "Epoch 11/20: 100%|██████████| 695/695 [02:37<00:00,  4.43it/s, Loss=0.8221, Acc=69.65%]\n"
          ]
        },
        {
          "output_type": "stream",
          "name": "stdout",
          "text": [
            "Epoch 11/20\n",
            "Train - Loss: 0.8221, Acc: 69.65%\n",
            "Val   - Loss: 1.4001, Acc: 59.57%\n",
            "Best Val Acc: 59.57% | Patience: 0/8\n",
            "------------------------------------------------------------\n"
          ]
        },
        {
          "output_type": "stream",
          "name": "stderr",
          "text": [
            "Epoch 12/20: 100%|██████████| 695/695 [02:34<00:00,  4.49it/s, Loss=0.7825, Acc=70.45%]\n"
          ]
        },
        {
          "output_type": "stream",
          "name": "stdout",
          "text": [
            "Epoch 12/20\n",
            "Train - Loss: 0.7825, Acc: 70.45%\n",
            "Val   - Loss: 1.4128, Acc: 61.65%\n",
            "Best Val Acc: 61.65% | Patience: 0/8\n",
            "------------------------------------------------------------\n"
          ]
        },
        {
          "output_type": "stream",
          "name": "stderr",
          "text": [
            "Epoch 13/20: 100%|██████████| 695/695 [02:37<00:00,  4.40it/s, Loss=0.7497, Acc=71.59%]\n"
          ]
        },
        {
          "output_type": "stream",
          "name": "stdout",
          "text": [
            "Epoch 13/20\n",
            "Train - Loss: 0.7497, Acc: 71.59%\n",
            "Val   - Loss: 1.4350, Acc: 61.87%\n",
            "Best Val Acc: 61.87% | Patience: 0/8\n",
            "------------------------------------------------------------\n"
          ]
        },
        {
          "output_type": "stream",
          "name": "stderr",
          "text": [
            "Epoch 14/20: 100%|██████████| 695/695 [02:34<00:00,  4.49it/s, Loss=0.6777, Acc=74.17%]\n"
          ]
        },
        {
          "output_type": "stream",
          "name": "stdout",
          "text": [
            "Epoch 14/20\n",
            "Train - Loss: 0.6777, Acc: 74.17%\n",
            "Val   - Loss: 1.4249, Acc: 63.02%\n",
            "Best Val Acc: 63.02% | Patience: 0/8\n",
            "------------------------------------------------------------\n"
          ]
        },
        {
          "output_type": "stream",
          "name": "stderr",
          "text": [
            "Epoch 15/20: 100%|██████████| 695/695 [02:37<00:00,  4.40it/s, Loss=0.6488, Acc=74.94%]\n"
          ]
        },
        {
          "output_type": "stream",
          "name": "stdout",
          "text": [
            "Epoch 15/20\n",
            "Train - Loss: 0.6488, Acc: 74.94%\n",
            "Val   - Loss: 1.4015, Acc: 64.35%\n",
            "Best Val Acc: 64.35% | Patience: 0/8\n",
            "------------------------------------------------------------\n"
          ]
        },
        {
          "output_type": "stream",
          "name": "stderr",
          "text": [
            "Epoch 16/20: 100%|██████████| 695/695 [02:35<00:00,  4.48it/s, Loss=0.6342, Acc=75.51%]\n"
          ]
        },
        {
          "output_type": "stream",
          "name": "stdout",
          "text": [
            "Epoch 16/20\n",
            "Train - Loss: 0.6342, Acc: 75.51%\n",
            "Val   - Loss: 1.3846, Acc: 65.25%\n",
            "Best Val Acc: 65.25% | Patience: 0/8\n",
            "------------------------------------------------------------\n"
          ]
        },
        {
          "output_type": "stream",
          "name": "stderr",
          "text": [
            "Epoch 17/20: 100%|██████████| 695/695 [02:36<00:00,  4.44it/s, Loss=0.5854, Acc=77.06%]\n"
          ]
        },
        {
          "output_type": "stream",
          "name": "stdout",
          "text": [
            "Epoch 17/20\n",
            "Train - Loss: 0.5854, Acc: 77.06%\n",
            "Val   - Loss: 1.4249, Acc: 64.71%\n",
            "Best Val Acc: 65.25% | Patience: 1/8\n",
            "------------------------------------------------------------\n"
          ]
        },
        {
          "output_type": "stream",
          "name": "stderr",
          "text": [
            "Epoch 18/20: 100%|██████████| 695/695 [02:37<00:00,  4.41it/s, Loss=0.5820, Acc=77.42%]\n"
          ]
        },
        {
          "output_type": "stream",
          "name": "stdout",
          "text": [
            "Epoch 18/20\n",
            "Train - Loss: 0.5820, Acc: 77.42%\n",
            "Val   - Loss: 1.3879, Acc: 65.43%\n",
            "Best Val Acc: 65.43% | Patience: 0/8\n",
            "------------------------------------------------------------\n"
          ]
        },
        {
          "output_type": "stream",
          "name": "stderr",
          "text": [
            "Epoch 19/20: 100%|██████████| 695/695 [02:34<00:00,  4.50it/s, Loss=0.5524, Acc=78.99%]\n"
          ]
        },
        {
          "output_type": "stream",
          "name": "stdout",
          "text": [
            "Epoch 19/20\n",
            "Train - Loss: 0.5524, Acc: 78.99%\n",
            "Val   - Loss: 1.4045, Acc: 66.15%\n",
            "Best Val Acc: 66.15% | Patience: 0/8\n",
            "------------------------------------------------------------\n"
          ]
        },
        {
          "output_type": "stream",
          "name": "stderr",
          "text": [
            "Epoch 20/20: 100%|██████████| 695/695 [02:34<00:00,  4.48it/s, Loss=0.5206, Acc=78.91%]\n"
          ]
        },
        {
          "output_type": "stream",
          "name": "stdout",
          "text": [
            "Epoch 20/20\n",
            "Train - Loss: 0.5206, Acc: 78.91%\n",
            "Val   - Loss: 1.4144, Acc: 65.32%\n",
            "Best Val Acc: 66.15% | Patience: 1/8\n",
            "------------------------------------------------------------\n",
            "Training completed! Best validation accuracy: 66.15%\n"
          ]
        }
      ]
    },
    {
      "cell_type": "code",
      "source": [
        "# Load best model and evaluate on test set\n",
        "checkpoint = torch.load('best_skin_disease_model_enhanced.pth', weights_only=False)\n",
        "model.load_state_dict(checkpoint['model_state_dict'])\n",
        "\n",
        "test_loss, test_accuracy, test_preds, test_labels = evaluate_model(model, test_loader, loss_fn, device)\n",
        "print(f\"Final Test Accuracy: {test_accuracy:.2f}%\")"
      ],
      "metadata": {
        "colab": {
          "base_uri": "https://localhost:8080/"
        },
        "id": "oaLrDrwZfiQ1",
        "outputId": "6f233692-477a-4026-c49e-64a429a19495"
      },
      "execution_count": 34,
      "outputs": [
        {
          "output_type": "stream",
          "name": "stdout",
          "text": [
            "Final Test Accuracy: 64.17%\n"
          ]
        }
      ]
    },
    {
      "cell_type": "code",
      "source": [
        "# Classification report\n",
        "print(\"Classification Report:\")\n",
        "print(classification_report(test_labels, test_preds,\n",
        "                          target_names=le.classes_))"
      ],
      "metadata": {
        "colab": {
          "base_uri": "https://localhost:8080/"
        },
        "id": "00dSZP89hIfO",
        "outputId": "62d5c5e1-eebe-40c4-b9b1-f4e04f30b2d9"
      },
      "execution_count": 35,
      "outputs": [
        {
          "output_type": "stream",
          "name": "stdout",
          "text": [
            "Classification Report:\n",
            "                     precision    recall  f1-score   support\n",
            "\n",
            "               Acne       0.85      0.88      0.86        65\n",
            "  Actinic_Keratosis       0.69      0.57      0.62        83\n",
            "      Benign_tumors       0.53      0.33      0.41       121\n",
            "            Bullous       0.79      0.55      0.65        55\n",
            "        Candidiasis       0.56      0.67      0.61        27\n",
            "       DrugEruption       0.68      0.70      0.69        61\n",
            "             Eczema       0.62      0.46      0.53       112\n",
            " Infestations_Bites       0.39      0.67      0.49        60\n",
            "             Lichen       0.53      0.62      0.57        61\n",
            "              Lupus       0.36      0.59      0.45        34\n",
            "              Moles       0.50      0.72      0.59        40\n",
            "          Psoriasis       0.60      0.49      0.54        88\n",
            "            Rosacea       0.69      0.79      0.73        28\n",
            "  Seborrh_Keratoses       0.61      0.69      0.65        51\n",
            "         SkinCancer       0.57      0.53      0.55        77\n",
            "Sun_Sunlight_Damage       0.41      0.68      0.51        34\n",
            "              Tinea       0.61      0.41      0.49       102\n",
            "     Unknown_Normal       0.96      0.96      0.96       189\n",
            "    Vascular_Tumors       0.55      0.55      0.55        60\n",
            "         Vasculitis       0.51      0.69      0.59        52\n",
            "           Vitiligo       0.90      0.91      0.91        82\n",
            "              Warts       0.66      0.72      0.69        64\n",
            "\n",
            "           accuracy                           0.64      1546\n",
            "          macro avg       0.62      0.64      0.62      1546\n",
            "       weighted avg       0.66      0.64      0.64      1546\n",
            "\n"
          ]
        }
      ]
    },
    {
      "cell_type": "code",
      "source": [
        "# Plot training history\n",
        "plt.figure(figsize=(15, 5))\n",
        "\n",
        "plt.subplot(1, 2, 1)\n",
        "plt.plot(train_losses, label='Training Loss', alpha=0.7)\n",
        "plt.plot(val_losses, label='Validation Loss', alpha=0.7)\n",
        "plt.title('Model Loss')\n",
        "plt.xlabel('Epoch')\n",
        "plt.ylabel('Loss')\n",
        "plt.legend()\n",
        "\n",
        "plt.subplot(1, 2, 2)\n",
        "plt.plot(train_accuracies, label='Training Accuracy', alpha=0.7)\n",
        "plt.plot(val_accuracies, label='Validation Accuracy', alpha=0.7)\n",
        "plt.title('Model Accuracy')\n",
        "plt.xlabel('Epoch')\n",
        "plt.ylabel('Accuracy (%)')\n",
        "plt.legend()\n",
        "\n",
        "plt.tight_layout()\n",
        "plt.show()"
      ],
      "metadata": {
        "colab": {
          "base_uri": "https://localhost:8080/",
          "height": 327
        },
        "id": "bQ9zZu39hLpQ",
        "outputId": "dc5b7082-d63c-4017-b391-bbe6f741da80"
      },
      "execution_count": 36,
      "outputs": [
        {
          "output_type": "display_data",
          "data": {
            "text/plain": [
              "<Figure size 1500x500 with 2 Axes>"
            ],
            "image/png": "[encoded data removed]"
          },
          "metadata": {}
        }
      ]
    },
    {
      "cell_type": "code",
      "source": [],
      "metadata": {
        "id": "jAszmiPQxK8G"
      },
      "execution_count": null,
      "outputs": []
    }
  ]
}